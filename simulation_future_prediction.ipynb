{
 "cells": [
  {
   "cell_type": "code",
   "execution_count": null,
   "metadata": {},
   "outputs": [],
   "source": [
    "import numpy as np\n",
    "import matplotlib.pyplot as plt\n",
    "import pandas as pd"
   ]
  },
  {
   "cell_type": "code",
   "execution_count": null,
   "metadata": {},
   "outputs": [],
   "source": [
    "# Constants\n",
    "sigma = 0.02  # Surface tension (N/m)\n",
    "d = 0.0508  # Tubing diameter (m)\n",
    "conversion_factor = 0.0283168 / (24 * 3600)  # Convert MMSCFD to m³/s"
   ]
  },
  {
   "cell_type": "code",
   "execution_count": null,
   "metadata": {},
   "outputs": [],
   "source": [
    "# Load dataset\n",
    "data = pd.read_csv(\"gas_well_data.csv\")"
   ]
  },
  {
   "cell_type": "code",
   "execution_count": null,
   "metadata": {},
   "outputs": [],
   "source": [
    "# Define decline parameters\n",
    "Q_g0 = data[\"Q_g (MMSCFD) (t)\"].mean()\n",
    "D = 0.02\n",
    "time_days = np.arange(0, 365 * 5, 30)"
   ]
  },
  {
   "cell_type": "code",
   "execution_count": null,
   "metadata": {},
   "outputs": [],
   "source": [
    "# Convert initial gas rate to m³/s\n",
    "Q_g0_m3s = Q_g0 * conversion_factor\n",
    "# Calculate future gas flow rate\n",
    "Q_g_future = Q_g0_m3s * np.exp(-D * (time_days / 30))\n",
    "# Compute gas velocity\n",
    "V_g_future = (4 * Q_g_future) / (np.pi * d**2)\n",
    "# Compute Turner's critical velocity\n",
    "rho_g_mean = (1 / data[\"ρ_l/ρ_g (t)\"]).mean()\n",
    "V_c_future = 67.6 * (sigma / rho_g_mean) ** 0.25"
   ]
  },
  {
   "cell_type": "code",
   "execution_count": null,
   "metadata": {},
   "outputs": [],
   "source": [
    "# Plot results\n",
    "plt.plot(time_days, V_g_future, label=\"Gas Velocity (V_g)\")\n",
    "plt.axhline(V_c_future, color=\"r\", linestyle=\"--\", label=\"Turner’s Critical Velocity (V_c)\")\n",
    "plt.xlabel(\"Time (Days)\")\n",
    "plt.ylabel(\"Velocity (m/s)\")\n",
    "plt.title(\"Future Prediction of Liquid Loading Occurrence\")\n",
    "plt.legend()\n",
    "plt.grid(True)\n",
    "plt.show()"
   ]
  }
 ],
 "metadata": {
  "language_info": {
   "name": "python"
  }
 },
 "nbformat": 4,
 "nbformat_minor": 2
}
